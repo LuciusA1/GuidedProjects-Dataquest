{
 "cells": [
  {
   "cell_type": "markdown",
   "metadata": {
    "collapsed": true
   },
   "source": [
    "# Hacker News Data Analysis \n",
    "\n",
    "We're specifically interested in posts with titles that begin with either Ask HN or Show HN. Users submit Ask HN posts to ask the Hacker News community a specific question.\n",
    "\n",
    "> Ask HN: How to improve my personal website?\n",
    "Ask HN: Am I the only one outraged by Twitter shutting down share counts?\n",
    "Ask HN: Aby recent changes to CSS that broke mobile?\n",
    "\n",
    "Likewise, users submit Show HN posts to show the Hacker News community a project, product, or just something interesting. Below are a few examples:\n",
    "\n",
    "> Show HN: Wio Link  ESP8266 Based Web of Things Hardware Development Platform'\n",
    "Show HN: Something pointless I made\n",
    "Show HN: Shanhu.io, a programming playground powered by e8vm\n",
    "\n",
    "We'll compare these two types of posts to determine the following:\n",
    "- Do Ask HN or Show HN receive more comments on average?\n",
    "- Do posts created at a certain time receive more comments on average?"
   ]
  },
  {
   "cell_type": "markdown",
   "metadata": {},
   "source": [
    "### Summary of Results\n",
    "1. On average, **Ask HN posts receive more commments.** Show HN posts average ten comments per post compared to Ask HN Posts which receive fourteen comments per post.\n",
    "2. Yes, **ASK HN posts created at a certain tme receive more comments on average. Specifically, at 3pm (EST) ASK HN posts receive ~24 more comments than the average.**"
   ]
  },
  {
   "cell_type": "code",
   "execution_count": 1,
   "metadata": {
    "scrolled": true
   },
   "outputs": [
    {
     "data": {
      "text/plain": [
       "[['id', 'title', 'url', 'num_points', 'num_comments', 'author', 'created_at'],\n",
       " ['12224879',\n",
       "  'Interactive Dynamic Video',\n",
       "  'http://www.interactivedynamicvideo.com/',\n",
       "  '386',\n",
       "  '52',\n",
       "  'ne0phyte',\n",
       "  '8/4/2016 11:52'],\n",
       " ['10975351',\n",
       "  'How to Use Open Source and Shut the Fuck Up at the Same Time',\n",
       "  'http://hueniverse.com/2016/01/26/how-to-use-open-source-and-shut-the-fuck-up-at-the-same-time/',\n",
       "  '39',\n",
       "  '10',\n",
       "  'josep2',\n",
       "  '1/26/2016 19:30'],\n",
       " ['11964716',\n",
       "  \"Florida DJs May Face Felony for April Fools' Water Joke\",\n",
       "  'http://www.thewire.com/entertainment/2013/04/florida-djs-april-fools-water-joke/63798/',\n",
       "  '2',\n",
       "  '1',\n",
       "  'vezycash',\n",
       "  '6/23/2016 22:20'],\n",
       " ['11919867',\n",
       "  'Technology ventures: From Idea to Enterprise',\n",
       "  'https://www.amazon.com/Technology-Ventures-Enterprise-Thomas-Byers/dp/0073523429',\n",
       "  '3',\n",
       "  '1',\n",
       "  'hswarna',\n",
       "  '6/17/2016 0:01']]"
      ]
     },
     "execution_count": 1,
     "metadata": {},
     "output_type": "execute_result"
    }
   ],
   "source": [
    "from csv import reader\n",
    "openf = open('hacker_news.csv')\n",
    "readf = reader(openf)\n",
    "hn = list(readf)\n",
    "hn[:5]"
   ]
  },
  {
   "cell_type": "code",
   "execution_count": 2,
   "metadata": {
    "scrolled": true
   },
   "outputs": [
    {
     "name": "stdout",
     "output_type": "stream",
     "text": [
      "['id', 'title', 'url', 'num_points', 'num_comments', 'author', 'created_at'] \n",
      "\n",
      "[['12224879', 'Interactive Dynamic Video', 'http://www.interactivedynamicvideo.com/', '386', '52', 'ne0phyte', '8/4/2016 11:52'], ['10975351', 'How to Use Open Source and Shut the Fuck Up at the Same Time', 'http://hueniverse.com/2016/01/26/how-to-use-open-source-and-shut-the-fuck-up-at-the-same-time/', '39', '10', 'josep2', '1/26/2016 19:30'], ['11964716', \"Florida DJs May Face Felony for April Fools' Water Joke\", 'http://www.thewire.com/entertainment/2013/04/florida-djs-april-fools-water-joke/63798/', '2', '1', 'vezycash', '6/23/2016 22:20'], ['11919867', 'Technology ventures: From Idea to Enterprise', 'https://www.amazon.com/Technology-Ventures-Enterprise-Thomas-Byers/dp/0073523429', '3', '1', 'hswarna', '6/17/2016 0:01'], ['10301696', 'Note by Note: The Making of Steinway L1037 (2007)', 'http://www.nytimes.com/2007/11/07/movies/07stein.html?_r=0', '8', '2', 'walterbell', '9/30/2015 4:12']]\n"
     ]
    }
   ],
   "source": [
    "headers = hn[0]\n",
    "hn = hn[1:]\n",
    "print(headers,'\\n')\n",
    "print(hn[:5])"
   ]
  },
  {
   "cell_type": "markdown",
   "metadata": {},
   "source": [
    "# Part One: Filtering Data"
   ]
  },
  {
   "cell_type": "code",
   "execution_count": 3,
   "metadata": {
    "scrolled": true
   },
   "outputs": [
    {
     "name": "stdout",
     "output_type": "stream",
     "text": [
      "1744\n",
      "1162\n",
      "17194\n"
     ]
    }
   ],
   "source": [
    "ask_posts = []\n",
    "show_posts = []\n",
    "other_posts = []\n",
    "\n",
    "for row in hn:\n",
    "    title = row[1]\n",
    "    if title.lower().startswith('ask hn'):\n",
    "        ask_posts.append(row)\n",
    "    elif title.lower().startswith('show hn'):\n",
    "        show_posts.append(row)\n",
    "    else:\n",
    "        other_posts.append(row)\n",
    "\n",
    "print(len(ask_posts))\n",
    "print(len(show_posts))\n",
    "print(len(other_posts))"
   ]
  },
  {
   "cell_type": "code",
   "execution_count": 4,
   "metadata": {
    "scrolled": true
   },
   "outputs": [
    {
     "name": "stdout",
     "output_type": "stream",
     "text": [
      "[['12296411', 'Ask HN: How to improve my personal website?', '', '2', '6', 'ahmedbaracat', '8/16/2016 9:55'], ['10610020', 'Ask HN: Am I the only one outraged by Twitter shutting down share counts?', '', '28', '29', 'tkfx', '11/22/2015 13:43']]\n"
     ]
    }
   ],
   "source": [
    "print(ask_posts[:2])"
   ]
  },
  {
   "cell_type": "code",
   "execution_count": 5,
   "metadata": {},
   "outputs": [
    {
     "name": "stdout",
     "output_type": "stream",
     "text": [
      "[['10627194', 'Show HN: Wio Link  ESP8266 Based Web of Things Hardware Development Platform', 'https://iot.seeed.cc', '26', '22', 'kfihihc', '11/25/2015 14:03'], ['10646440', 'Show HN: Something pointless I made', 'http://dn.ht/picklecat/', '747', '102', 'dhotson', '11/29/2015 22:46']]\n"
     ]
    }
   ],
   "source": [
    "print(show_posts[:2])"
   ]
  },
  {
   "cell_type": "code",
   "execution_count": 6,
   "metadata": {},
   "outputs": [
    {
     "name": "stdout",
     "output_type": "stream",
     "text": [
      "Total Number of Comments for Ask Posts: 24,483\n",
      "Average Number of Comments for Ask Posts: 14.\n",
      "------------------------------------------------\n",
      "Total Number of Comments for Show Posts: 11,988\n",
      "Average Number of Comments for Show Posts: 10.\n"
     ]
    }
   ],
   "source": [
    "def TotalandAverageNumberofCommentCalc(dataset,index,calculateaverage=False):\n",
    "    total_comments = 0 \n",
    "    if calculateaverage==False:\n",
    "        for row in dataset:\n",
    "            num_comments = row[index]\n",
    "            num_comments = int(num_comments)\n",
    "            total_comments += num_comments\n",
    "            return total_comments\n",
    "    else:\n",
    "        total_comments_foravg = 0\n",
    "        for row in dataset:\n",
    "            num_comments = row[index]\n",
    "            num_comments = int(num_comments)\n",
    "            total_comments_foravg += num_comments\n",
    "        avg_comments = total_comments_foravg/len(dataset)\n",
    "        return total_comments_foravg,avg_comments\n",
    "\n",
    "ask_posts_totalavg = TotalandAverageNumberofCommentCalc(ask_posts,4,True)\n",
    "show_posts_totalavg = TotalandAverageNumberofCommentCalc(show_posts,4,True)\n",
    "print(\"Total Number of Comments for Ask Posts: {totalcomments:,}\\nAverage Number of Comments for Ask Posts: {avgcomments:,.0f}.\"\n",
    "      .format(totalcomments=ask_posts_totalavg[0],\n",
    "              avgcomments=ask_posts_totalavg[1]))\n",
    "print('------------------------------------------------')\n",
    "print(\"Total Number of Comments for Show Posts: {totalcomments:,}\\nAverage Number of Comments for Show Posts: {avgcomments:,.0f}.\"\n",
    "      .format(totalcomments=show_posts_totalavg[0],\n",
    "              avgcomments=show_posts_totalavg[1]))"
   ]
  },
  {
   "cell_type": "markdown",
   "metadata": {},
   "source": [
    "On average ask posts receive a higher number of comments. Makes logical sense--questions will receive answers versus \"showing\" posts would be more feedback oriented comments. Note, there is only a marginal difference between averages. ~4 comments is not statistically significant.\n",
    "\n",
    "Since asks posts receive more comments on average, we will focus on that segment of the data for our analysis."
   ]
  },
  {
   "cell_type": "markdown",
   "metadata": {},
   "source": [
    "# Part Two: Analyzing Frequency of Asks Posts by Time"
   ]
  },
  {
   "cell_type": "code",
   "execution_count": 7,
   "metadata": {},
   "outputs": [],
   "source": [
    "import datetime as dt"
   ]
  },
  {
   "cell_type": "code",
   "execution_count": 8,
   "metadata": {},
   "outputs": [
    {
     "name": "stdout",
     "output_type": "stream",
     "text": [
      "[['12296411', 'Ask HN: How to improve my personal website?', '', '2', '6', 'ahmedbaracat', '8/16/2016 9:55'], ['10610020', 'Ask HN: Am I the only one outraged by Twitter shutting down share counts?', '', '28', '29', 'tkfx', '11/22/2015 13:43']]\n"
     ]
    }
   ],
   "source": [
    "print(ask_posts[:2])"
   ]
  },
  {
   "cell_type": "code",
   "execution_count": 10,
   "metadata": {},
   "outputs": [],
   "source": [
    "# counts_by_hour = {}\n",
    "# comments_by_hour = {}\n",
    "    \n",
    "# for element in result_list:\n",
    "#     dateformat = \"%m/%d/%Y %H:%M\"\n",
    "#     datetimeobj = dt.datetime.strptime(element[0],dateformat)\n",
    "#     datetimeobj = datetimeobj.strftime(\"%H\")\n",
    "#     print(datetimeobj)\n",
    "#     hour = datetimeobj.hour\n",
    "\n",
    "def commentsfreq(inputdataset,dateindex,numcommindex):\n",
    "    result_list = []\n",
    "    for row in inputdataset:\n",
    "        result_list.append([row[dateindex],int(row[numcommindex])])  \n",
    "    counts_by_hour = {}\n",
    "    comments_by_hour = {}\n",
    "    dateformat = \"%m/%d/%Y %H:%M\"\n",
    "    for element in result_list:\n",
    "        date = element[0]\n",
    "        comments = element[1]\n",
    "        hour = dt.datetime.strptime(date,dateformat).strftime(\"%H\")\n",
    "        if hour not in counts_by_hour:\n",
    "            counts_by_hour[hour] = 1\n",
    "            comments_by_hour[hour] = comments\n",
    "        else:\n",
    "            counts_by_hour[hour] += 1\n",
    "            comments_by_hour[hour] += comments\n",
    "    return counts_by_hour, comments_by_hour"
   ]
  },
  {
   "cell_type": "code",
   "execution_count": 11,
   "metadata": {
    "scrolled": true
   },
   "outputs": [],
   "source": [
    "askpostscounts = commentsfreq(ask_posts,6,4)"
   ]
  },
  {
   "cell_type": "code",
   "execution_count": 12,
   "metadata": {},
   "outputs": [],
   "source": [
    "countsbyhour = askpostscounts[0]\n",
    "commentsperhour = askpostscounts[1]"
   ]
  },
  {
   "cell_type": "code",
   "execution_count": 14,
   "metadata": {},
   "outputs": [
    {
     "name": "stdout",
     "output_type": "stream",
     "text": [
      "Count of Asks Posts Comments by Hour:\n",
      "00 : 447\n",
      "01 : 683\n",
      "02 : 1381\n",
      "03 : 421\n",
      "04 : 337\n",
      "05 : 464\n",
      "06 : 397\n",
      "07 : 267\n",
      "08 : 492\n",
      "09 : 251\n",
      "10 : 793\n",
      "11 : 641\n",
      "12 : 687\n",
      "13 : 1253\n",
      "14 : 1416\n",
      "15 : 4477\n",
      "16 : 1814\n",
      "17 : 1146\n",
      "18 : 1439\n",
      "19 : 1188\n",
      "20 : 1722\n",
      "21 : 1745\n",
      "22 : 479\n",
      "23 : 543\n"
     ]
    }
   ],
   "source": [
    "print(\"Count of Asks Posts Comments by Hour:\")\n",
    "for row in sorted(commentsperhour):\n",
    "    print(\"{row} : {count}\".format(row=row,count=commentsperhour[row]))"
   ]
  },
  {
   "cell_type": "code",
   "execution_count": 38,
   "metadata": {},
   "outputs": [
    {
     "data": {
      "text/plain": [
       "[['09', 5.5777777777777775],\n",
       " ['13', 14.741176470588234],\n",
       " ['10', 13.440677966101696],\n",
       " ['14', 13.233644859813085],\n",
       " ['16', 16.796296296296298],\n",
       " ['23', 7.985294117647059],\n",
       " ['12', 9.41095890410959],\n",
       " ['17', 11.46],\n",
       " ['15', 38.5948275862069],\n",
       " ['21', 16.009174311926607],\n",
       " ['20', 21.525],\n",
       " ['02', 23.810344827586206],\n",
       " ['18', 13.20183486238532],\n",
       " ['03', 7.796296296296297],\n",
       " ['05', 10.08695652173913],\n",
       " ['19', 10.8],\n",
       " ['01', 11.383333333333333],\n",
       " ['22', 6.746478873239437],\n",
       " ['08', 10.25],\n",
       " ['04', 7.170212765957447],\n",
       " ['00', 8.127272727272727],\n",
       " ['06', 9.022727272727273],\n",
       " ['07', 7.852941176470588],\n",
       " ['11', 11.051724137931034]]"
      ]
     },
     "execution_count": 38,
     "metadata": {},
     "output_type": "execute_result"
    }
   ],
   "source": [
    "avg_by_hour =  []\n",
    "for hour in commentsperhour:\n",
    "    avg_by_hour.append([hour,(commentsperhour[hour]/countsbyhour[hour])])\n",
    "avg_by_hour"
   ]
  },
  {
   "cell_type": "code",
   "execution_count": 60,
   "metadata": {
    "scrolled": true
   },
   "outputs": [
    {
     "name": "stdout",
     "output_type": "stream",
     "text": [
      "15:00 : 38.59 average comments per post.\n",
      "02:00 : 23.81 average comments per post.\n",
      "20:00 : 21.52 average comments per post.\n",
      "16:00 : 16.80 average comments per post.\n",
      "21:00 : 16.01 average comments per post.\n"
     ]
    }
   ],
   "source": [
    "swap_avg_by_hour = []\n",
    "for hour in avg_by_hour:\n",
    "    swap_avg_by_hour.append([hour[1],hour[0]])\n",
    "sorted_swap = sorted(swap_avg_by_hour,reverse=True)\n",
    "\n",
    "# print(sorted_swap)\n",
    "\n",
    "for eachhr in sorted_swap[:5]:\n",
    "    print(\"{hr} : {avgcomment:.2f} average comments per post.\"\n",
    "          .format(hr=dt.datetime.strptime(eachhr[1],\"%H\")\n",
    "                  .strftime(\"%H:%M\"),avgcomment=eachhr[0]))\n",
    "                  "
   ]
  },
  {
   "cell_type": "markdown",
   "metadata": {},
   "source": [
    "Taking into account the data presented, the best time to post an ask question on Hacker News is 3-4pm (EST). From 3-4pm the average amount of comments a post exceed 15+, this makes it more favorable for the user to post at these times. "
   ]
  },
  {
   "cell_type": "markdown",
   "metadata": {},
   "source": [
    "`TODO`\n",
    "1. Determine if show or ask posts receive more points on average.\n",
    "2. Determine if posts created at a certain time are more likely to receive more points.\n",
    "3. Compare your results to the average number of comments and points other posts receive."
   ]
  }
 ],
 "metadata": {
  "kernelspec": {
   "display_name": "Python 3",
   "language": "python",
   "name": "python3"
  },
  "language_info": {
   "codemirror_mode": {
    "name": "ipython",
    "version": 3
   },
   "file_extension": ".py",
   "mimetype": "text/x-python",
   "name": "python",
   "nbconvert_exporter": "python",
   "pygments_lexer": "ipython3",
   "version": "3.8.2"
  }
 },
 "nbformat": 4,
 "nbformat_minor": 2
}
