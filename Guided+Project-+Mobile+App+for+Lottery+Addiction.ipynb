{
 "cells": [
  {
   "cell_type": "markdown",
   "metadata": {},
   "source": [
    "# Title: Mobile App for Lottery Addiction"
   ]
  },
  {
   "cell_type": "markdown",
   "metadata": {},
   "source": [
    "## Introduction: \n",
    "\n",
    "### Context:\n",
    "\n",
    "Many people start playing the lottery for fun, but for some this activity turns into a habit which eventually escalates into addiction. Like other compulsive gamblers, lottery addicts soon begin spending from their savings and loans, they start to accumulate debts, and eventually engage in desperate behaviors like theft.\n",
    "\n",
    "A medical institute that aims to prevent and treat gambling addictions wants to build a dedicated mobile app to help lottery addicts better estimate their chances of winning. The institute has a team of engineers that will build the app, but they need us to create the logical core of the app and calculate probabilities.\n",
    "\n",
    "\n",
    "### Goals:\n",
    "\n",
    "For the first version of the app, they want us to focus on the [6/49](https://en.wikipedia.org/wiki/Lotto_6/49) lottery and build functions that enable users to answer questions like:\n",
    "\n",
    "- What is the probability of winning the big prize with a single ticket?\n",
    "- What is the probability of winning the big prize if we play 40 different tickets (or any other number)?\n",
    "- What is the probability of having at least five (or four, or three, or two) winning numbers on a single ticket?\n",
    "\n",
    "The institute also wants us to consider historical data coming from the national 6/49 lottery game in Canada. \n",
    "\n",
    "The data set has data for 3,665 drawings, dating from 1982 to 2018 (we'll come back to this).\n",
    "\n",
    "_The scenario we're following throughout this project is fictional — the main purpose is to practice applying the concepts we learned in a setting that simulates a real-world scenario._\n"
   ]
  },
  {
   "cell_type": "markdown",
   "metadata": {},
   "source": [
    "## Part 1: Factorial & Combinations Function"
   ]
  },
  {
   "cell_type": "markdown",
   "metadata": {},
   "source": [
    "Throughout the project, we'll need to calculate repeatedly probabilities and combinations. As a consequence, we'll start by writing two functions that we'll use often:\n",
    "\n",
    "A function that calculates factorials; and\n",
    "A function that calculates combinations.\n",
    "\n",
    "Factorial is defined as:\n",
    "\n",
    "**<math xmlns=\"http://www.w3.org/1998/Math/MathML\" display=\"block\">\n",
    "  <mi>n</mi>\n",
    "  <mo>!</mo>\n",
    "  <mo>=</mo>\n",
    "  <mi>n</mi>\n",
    "  <mo>&#x00D7;<!-- × --></mo>\n",
    "  <mo stretchy=\"false\">(</mo>\n",
    "  <mi>n</mi>\n",
    "  <mo>&#x2212;<!-- − --></mo>\n",
    "  <mn>1</mn>\n",
    "  <mo stretchy=\"false\">)</mo>\n",
    "  <mo>&#x00D7;<!-- × --></mo>\n",
    "  <mo stretchy=\"false\">(</mo>\n",
    "  <mi>n</mi>\n",
    "  <mo>&#x2212;<!-- − --></mo>\n",
    "  <mn>2</mn>\n",
    "  <mo stretchy=\"false\">)</mo>\n",
    "  <mo>&#x00D7;<!-- × --></mo>\n",
    "  <mo>.</mo>\n",
    "  <mo>.</mo>\n",
    "  <mo>.</mo>\n",
    "  <mo>&#x00D7;<!-- × --></mo>\n",
    "  <mn>2</mn>\n",
    "  <mo>&#x00D7;<!-- × --></mo>\n",
    "  <mn>1</mn>\n",
    "</math>**\n",
    "\n",
    "Combination is defined as:\n",
    "\n",
    "**<math xmlns=\"http://www.w3.org/1998/Math/MathML\" display=\"block\">\n",
    "  <msub>\n",
    "    <mi></mi>\n",
    "    <mi>n</mi>\n",
    "  </msub>\n",
    "  <msub>\n",
    "    <mi>C</mi>\n",
    "    <mi>k</mi>\n",
    "  </msub>\n",
    "  <mo>=</mo>\n",
    "  <mrow class=\"MJX-TeXAtom-ORD\">\n",
    "    <mrow>\n",
    "      <mrow class=\"MJX-TeXAtom-OPEN\">\n",
    "        <mo maxsize=\"2.047em\" minsize=\"2.047em\">(</mo>\n",
    "      </mrow>\n",
    "      <mfrac linethickness=\"0\">\n",
    "        <mi>n</mi>\n",
    "        <mi>k</mi>\n",
    "      </mfrac>\n",
    "      <mrow class=\"MJX-TeXAtom-CLOSE\">\n",
    "        <mo maxsize=\"2.047em\" minsize=\"2.047em\">)</mo>\n",
    "      </mrow>\n",
    "    </mrow>\n",
    "  </mrow>\n",
    "  <mo>=</mo>\n",
    "  <mfrac>\n",
    "    <mrow>\n",
    "      <mi>n</mi>\n",
    "      <mo>!</mo>\n",
    "    </mrow>\n",
    "    <mrow>\n",
    "      <mi>k</mi>\n",
    "      <mo>!</mo>\n",
    "      <mo stretchy=\"false\">(</mo>\n",
    "      <mi>n</mi>\n",
    "      <mo>&#x2212;<!-- − --></mo>\n",
    "      <mi>k</mi>\n",
    "      <mo stretchy=\"false\">)</mo>\n",
    "      <mo>!</mo>\n",
    "    </mrow>\n",
    "  </mfrac>\n",
    "</math>**"
   ]
  },
  {
   "cell_type": "code",
   "execution_count": 1,
   "metadata": {
    "collapsed": true
   },
   "outputs": [],
   "source": [
    "# we will define the factorial function recursively, \n",
    "# we have less memory expensive options such as a for loop, but this is not an issue here\n",
    "\n",
    "def factorial(n):\n",
    "    \"\"\"\n",
    "    Recursive function used to calculate the factorial of a positive integer n.\n",
    "    Returns value of 1 if n is equal to 1, else\n",
    "    returns n * factorial(n-1) until the end of sequence of n.\n",
    "    \"\"\"\n",
    "    if n == 1:\n",
    "        return 1\n",
    "    else:\n",
    "        return n * factorial(n-1)\n",
    "\n",
    "# since the definition of a combination mathematically uses factorial,\n",
    "# we will build our combination function with it \n",
    "\n",
    "def combinations(n,k):\n",
    "    \"\"\"\n",
    "    Function that returns the total amount of combinations, given n choose k positive integers.\n",
    "    \"\"\"\n",
    "    return factorial(n)/(factorial(k)*factorial(n-k))"
   ]
  },
  {
   "cell_type": "code",
   "execution_count": 2,
   "metadata": {
    "collapsed": false
   },
   "outputs": [
    {
     "name": "stdout",
     "output_type": "stream",
     "text": [
      "3,628,800\n",
      "252.0\n"
     ]
    }
   ],
   "source": [
    "# lets test our functions\n",
    "print(\"{:,}\".format(factorial(10)))\n",
    "print(\"{:,}\".format(combinations(10,5)))"
   ]
  },
  {
   "cell_type": "markdown",
   "metadata": {},
   "source": [
    "Our functions work correctly. Lets move on and start applying them."
   ]
  },
  {
   "cell_type": "markdown",
   "metadata": {},
   "source": [
    "## Part 2: Simple Probability Function"
   ]
  },
  {
   "cell_type": "markdown",
   "metadata": {},
   "source": [
    "In the 6/49 lottery, six numbers are drawn from a set of 49 numbers that range from 1 to 49. \n",
    "\n",
    "A player wins the big prize if the six numbers on their tickets match all the six numbers drawn. If a player has a ticket with the numbers {13, 22, 24, 27, 42, 44}, he only wins the big prize if the numbers drawn are {13, 22, 24, 27, 42, 44}. \n",
    "\n",
    "If only one number differs, he doesn't win.\n",
    "\n",
    "We discussed with the engineering team of the medical institute, and they told us we need to be aware of the following details when we write the function:\n",
    "\n",
    "- Inside the app, the user inputs six different numbers from 1 to 49.\n",
    "- Under the hood, the six numbers will come as a Python list, which will serve as the single input to our function.\n",
    "- The engineering team wants the function to print the probability value in a friendly way — in a way that people without any probability training are able to understand.\n",
    "\n",
    "**Write a function named** `one_ticket_probability()`**, which takes in a list of six unique numbers and prints the probability of winning in a way that's easy to understand.**"
   ]
  },
  {
   "cell_type": "code",
   "execution_count": 3,
   "metadata": {
    "collapsed": true
   },
   "outputs": [],
   "source": [
    "def one_ticket_probability(array):\n",
    "    \"\"\"\n",
    "    Simple theoretical proability function that takes an array, purely for aesthetic reasons,\n",
    "    and returns the probability of guessing a correct lottery entry of 6 numbers out of 49 possible numbers,\n",
    "    hence 49 choose 6.\n",
    "    \"\"\"\n",
    "    total_combinations = combinations(49,6)\n",
    "    successful_outcomes = 1\n",
    "    probability = (successful_outcomes/total_combinations)*100\n",
    "    return \"Your chances of winning with entry {} is {:,.9f} percent.\".format(array,probability)"
   ]
  },
  {
   "cell_type": "code",
   "execution_count": 4,
   "metadata": {
    "collapsed": false
   },
   "outputs": [
    {
     "name": "stdout",
     "output_type": "stream",
     "text": [
      "Your chances of winning with entry [1, 2, 3, 4, 5, 6] is 0.000007151 percent.\n",
      "------------------------------------\n",
      "Your chances of winning with entry [5, 4, 3, 6, 9, 11] is 0.000007151 percent.\n",
      "------------------------------------\n",
      "Your chances of winning with entry [14, 33, 62, 9, 11] is 0.000007151 percent.\n"
     ]
    }
   ],
   "source": [
    "print(one_ticket_probability([1,2,3,4,5,6]))\n",
    "print('------------------------------------')\n",
    "print(one_ticket_probability([5,4,3,6,9,11]))\n",
    "print('------------------------------------')\n",
    "print(one_ticket_probability([14,33,62,9,11]))"
   ]
  },
  {
   "cell_type": "markdown",
   "metadata": {},
   "source": [
    " Simple theoretical proability function that takes an array, purely for aesthetic reasons,\n",
    "    and returns the probability of guessing a correct lottery entry of 6 numbers out of 49 possible numbers,\n",
    "    hence 49 choose 6"
   ]
  },
  {
   "cell_type": "markdown",
   "metadata": {},
   "source": [
    "## Part 3: Comparing to Historic Wins"
   ]
  },
  {
   "cell_type": "markdown",
   "metadata": {},
   "source": [
    "For the first version of the app, however, users should also be able to compare their ticket against the historical lottery data in Canada and determine whether they would have ever won by now.\n",
    "\n",
    "On this screen, we'll focus on exploring the historical data coming from the Canada 6/49 lottery.\n",
    "\n",
    "The data set can be downloaded from [Kaggle](https://www.kaggle.com/datasets/datascienceai/lottery-dataset)\n",
    "\n",
    "The data set contains historical data for 3,665 drawings (each row shows data for a single drawing), dating from 1982 to 2018. For each drawing, we can find the six numbers drawn in the following six columns:\n",
    "\n",
    "- NUMBER DRAWN 1\n",
    "- NUMBER DRAWN 2\n",
    "- NUMBER DRAWN 3\n",
    "- NUMBER DRAWN 4\n",
    "- NUMBER DRAWN 5\n",
    "- NUMBER DRAWN 6"
   ]
  },
  {
   "cell_type": "code",
   "execution_count": 5,
   "metadata": {
    "collapsed": false
   },
   "outputs": [
    {
     "name": "stdout",
     "output_type": "stream",
     "text": [
      "Number of rows: 3665\n"
     ]
    }
   ],
   "source": [
    "import pandas as pd\n",
    "\n",
    "lottery_historical_df_raw = pd.read_csv('649.csv')\n",
    "print('Number of rows: {}'.format(lottery_historical_df_raw.shape[0]))"
   ]
  },
  {
   "cell_type": "code",
   "execution_count": 6,
   "metadata": {
    "collapsed": false
   },
   "outputs": [
    {
     "data": {
      "text/html": [
       "<div>\n",
       "<style scoped>\n",
       "    .dataframe tbody tr th:only-of-type {\n",
       "        vertical-align: middle;\n",
       "    }\n",
       "\n",
       "    .dataframe tbody tr th {\n",
       "        vertical-align: top;\n",
       "    }\n",
       "\n",
       "    .dataframe thead th {\n",
       "        text-align: right;\n",
       "    }\n",
       "</style>\n",
       "<table border=\"1\" class=\"dataframe\">\n",
       "  <thead>\n",
       "    <tr style=\"text-align: right;\">\n",
       "      <th></th>\n",
       "      <th>PRODUCT</th>\n",
       "      <th>DRAW NUMBER</th>\n",
       "      <th>SEQUENCE NUMBER</th>\n",
       "      <th>DRAW DATE</th>\n",
       "      <th>NUMBER DRAWN 1</th>\n",
       "      <th>NUMBER DRAWN 2</th>\n",
       "      <th>NUMBER DRAWN 3</th>\n",
       "      <th>NUMBER DRAWN 4</th>\n",
       "      <th>NUMBER DRAWN 5</th>\n",
       "      <th>NUMBER DRAWN 6</th>\n",
       "      <th>BONUS NUMBER</th>\n",
       "    </tr>\n",
       "  </thead>\n",
       "  <tbody>\n",
       "    <tr>\n",
       "      <th>0</th>\n",
       "      <td>649</td>\n",
       "      <td>1</td>\n",
       "      <td>0</td>\n",
       "      <td>6/12/1982</td>\n",
       "      <td>3</td>\n",
       "      <td>11</td>\n",
       "      <td>12</td>\n",
       "      <td>14</td>\n",
       "      <td>41</td>\n",
       "      <td>43</td>\n",
       "      <td>13</td>\n",
       "    </tr>\n",
       "    <tr>\n",
       "      <th>1</th>\n",
       "      <td>649</td>\n",
       "      <td>2</td>\n",
       "      <td>0</td>\n",
       "      <td>6/19/1982</td>\n",
       "      <td>8</td>\n",
       "      <td>33</td>\n",
       "      <td>36</td>\n",
       "      <td>37</td>\n",
       "      <td>39</td>\n",
       "      <td>41</td>\n",
       "      <td>9</td>\n",
       "    </tr>\n",
       "    <tr>\n",
       "      <th>2</th>\n",
       "      <td>649</td>\n",
       "      <td>3</td>\n",
       "      <td>0</td>\n",
       "      <td>6/26/1982</td>\n",
       "      <td>1</td>\n",
       "      <td>6</td>\n",
       "      <td>23</td>\n",
       "      <td>24</td>\n",
       "      <td>27</td>\n",
       "      <td>39</td>\n",
       "      <td>34</td>\n",
       "    </tr>\n",
       "  </tbody>\n",
       "</table>\n",
       "</div>"
      ],
      "text/plain": [
       "   PRODUCT  DRAW NUMBER  SEQUENCE NUMBER  DRAW DATE  NUMBER DRAWN 1  \\\n",
       "0      649            1                0  6/12/1982               3   \n",
       "1      649            2                0  6/19/1982               8   \n",
       "2      649            3                0  6/26/1982               1   \n",
       "\n",
       "   NUMBER DRAWN 2  NUMBER DRAWN 3  NUMBER DRAWN 4  NUMBER DRAWN 5  \\\n",
       "0              11              12              14              41   \n",
       "1              33              36              37              39   \n",
       "2               6              23              24              27   \n",
       "\n",
       "   NUMBER DRAWN 6  BONUS NUMBER  \n",
       "0              43            13  \n",
       "1              41             9  \n",
       "2              39            34  "
      ]
     },
     "execution_count": 6,
     "metadata": {},
     "output_type": "execute_result"
    }
   ],
   "source": [
    "lottery_historical_df_raw.head(3)"
   ]
  },
  {
   "cell_type": "code",
   "execution_count": 7,
   "metadata": {
    "collapsed": false
   },
   "outputs": [
    {
     "data": {
      "text/html": [
       "<div>\n",
       "<style scoped>\n",
       "    .dataframe tbody tr th:only-of-type {\n",
       "        vertical-align: middle;\n",
       "    }\n",
       "\n",
       "    .dataframe tbody tr th {\n",
       "        vertical-align: top;\n",
       "    }\n",
       "\n",
       "    .dataframe thead th {\n",
       "        text-align: right;\n",
       "    }\n",
       "</style>\n",
       "<table border=\"1\" class=\"dataframe\">\n",
       "  <thead>\n",
       "    <tr style=\"text-align: right;\">\n",
       "      <th></th>\n",
       "      <th>PRODUCT</th>\n",
       "      <th>DRAW NUMBER</th>\n",
       "      <th>SEQUENCE NUMBER</th>\n",
       "      <th>DRAW DATE</th>\n",
       "      <th>NUMBER DRAWN 1</th>\n",
       "      <th>NUMBER DRAWN 2</th>\n",
       "      <th>NUMBER DRAWN 3</th>\n",
       "      <th>NUMBER DRAWN 4</th>\n",
       "      <th>NUMBER DRAWN 5</th>\n",
       "      <th>NUMBER DRAWN 6</th>\n",
       "      <th>BONUS NUMBER</th>\n",
       "    </tr>\n",
       "  </thead>\n",
       "  <tbody>\n",
       "    <tr>\n",
       "      <th>3662</th>\n",
       "      <td>649</td>\n",
       "      <td>3589</td>\n",
       "      <td>0</td>\n",
       "      <td>6/13/2018</td>\n",
       "      <td>6</td>\n",
       "      <td>22</td>\n",
       "      <td>24</td>\n",
       "      <td>31</td>\n",
       "      <td>32</td>\n",
       "      <td>34</td>\n",
       "      <td>16</td>\n",
       "    </tr>\n",
       "    <tr>\n",
       "      <th>3663</th>\n",
       "      <td>649</td>\n",
       "      <td>3590</td>\n",
       "      <td>0</td>\n",
       "      <td>6/16/2018</td>\n",
       "      <td>2</td>\n",
       "      <td>15</td>\n",
       "      <td>21</td>\n",
       "      <td>31</td>\n",
       "      <td>38</td>\n",
       "      <td>49</td>\n",
       "      <td>8</td>\n",
       "    </tr>\n",
       "    <tr>\n",
       "      <th>3664</th>\n",
       "      <td>649</td>\n",
       "      <td>3591</td>\n",
       "      <td>0</td>\n",
       "      <td>6/20/2018</td>\n",
       "      <td>14</td>\n",
       "      <td>24</td>\n",
       "      <td>31</td>\n",
       "      <td>35</td>\n",
       "      <td>37</td>\n",
       "      <td>48</td>\n",
       "      <td>17</td>\n",
       "    </tr>\n",
       "  </tbody>\n",
       "</table>\n",
       "</div>"
      ],
      "text/plain": [
       "      PRODUCT  DRAW NUMBER  SEQUENCE NUMBER  DRAW DATE  NUMBER DRAWN 1  \\\n",
       "3662      649         3589                0  6/13/2018               6   \n",
       "3663      649         3590                0  6/16/2018               2   \n",
       "3664      649         3591                0  6/20/2018              14   \n",
       "\n",
       "      NUMBER DRAWN 2  NUMBER DRAWN 3  NUMBER DRAWN 4  NUMBER DRAWN 5  \\\n",
       "3662              22              24              31              32   \n",
       "3663              15              21              31              38   \n",
       "3664              24              31              35              37   \n",
       "\n",
       "      NUMBER DRAWN 6  BONUS NUMBER  \n",
       "3662              34            16  \n",
       "3663              49             8  \n",
       "3664              48            17  "
      ]
     },
     "execution_count": 7,
     "metadata": {},
     "output_type": "execute_result"
    }
   ],
   "source": [
    "lottery_historical_df_raw.tail(3)"
   ]
  },
  {
   "cell_type": "markdown",
   "metadata": {},
   "source": [
    "## Part 3.5: Functions to Compare user input to previous Winnings"
   ]
  },
  {
   "cell_type": "markdown",
   "metadata": {},
   "source": [
    "The engineering team told us that we need to be aware of the following details:\n",
    "\n",
    "- Inside the app, the user inputs six different numbers from 1 to 49.\n",
    "- Under the hood, the six numbers will come as a Python list and serve as an input to our function.\n",
    "- The engineering team wants us to write a function that prints:\n",
    "    - the number of times the combination selected occurred in the Canada data set; and\n",
    "    - the probability of winning the big prize in the next drawing with that combination."
   ]
  },
  {
   "cell_type": "code",
   "execution_count": 8,
   "metadata": {
    "collapsed": false
   },
   "outputs": [],
   "source": [
    "def extract_numbers(row):\n",
    "    \"\"\"\n",
    "     Function takes as input a row of the lottery dataframe and returns a set containing all the six winning numbers. \n",
    "     For the first row, for instance, the function should return the set {3, 41, 11, 12, 43, 14}\n",
    "    \"\"\"\n",
    "    winning_numbers_row = [row['NUMBER DRAWN 1'],row['NUMBER DRAWN 2'],row['NUMBER DRAWN 3'],row['NUMBER DRAWN 4'],\n",
    "    row['NUMBER DRAWN 5'],row['NUMBER DRAWN 6']]\n",
    "    winning_numbers_row = set(winning_numbers_row)\n",
    "    return winning_numbers_row\n",
    "winning_numbers  = pd.Series(lottery_historical_df_raw.apply(extract_numbers,axis=1))"
   ]
  },
  {
   "cell_type": "code",
   "execution_count": 9,
   "metadata": {
    "collapsed": false
   },
   "outputs": [
    {
     "data": {
      "text/plain": [
       "0    {3, 41, 11, 12, 43, 14}\n",
       "1    {33, 36, 37, 39, 8, 41}\n",
       "2     {1, 6, 39, 23, 24, 27}\n",
       "3     {3, 9, 10, 43, 13, 20}\n",
       "4    {34, 5, 14, 47, 21, 31}\n",
       "dtype: object"
      ]
     },
     "execution_count": 9,
     "metadata": {},
     "output_type": "execute_result"
    }
   ],
   "source": [
    "winning_numbers.head()"
   ]
  },
  {
   "cell_type": "code",
   "execution_count": 10,
   "metadata": {
    "collapsed": false
   },
   "outputs": [
    {
     "name": "stdout",
     "output_type": "stream",
     "text": [
      "Your entry {3, 41, 11, 12, 43, 14} was not found in the historical winning index. This does not increase your odds of winning, you still have a 1/13,983,816 chance of winning the big prize in the next drawing with that combination.\n",
      "------------------------------------------------------------------\n",
      "Your entry {3, 9, 10, 43, 13, 20} was not found in the historical winning index. This does not increase your odds of winning, you still have a 1/13,983,816 chance of winning the big prize in the next drawing with that combination.\n",
      "------------------------------------------------------------------\n",
      "Your entry {10, 3} was not found in the historical winning index. This does not increase your odds of winning, you still have a 1/13,983,816 chance of winning the big prize in the next drawing with that combination.\n"
     ]
    }
   ],
   "source": [
    "def check_historical_occurence(usernumbers, series):\n",
    "    \"\"\"\n",
    "    Function that takes in two inputs: a Python list containing the user numbers and a pandas Series containing sets with the winning numbers.\n",
    "    \"\"\"\n",
    "    successful_outcomes = 0\n",
    "    input_set = set(usernumbers)\n",
    "    for row in series:\n",
    "        if (input_set==row):\n",
    "            successful_outcomes += 1\n",
    "    probabilityofwinning = (successful_outcomes/(combinations(49,6)))*100\n",
    "    txtoutput = 'Your entry {} was not found in the historical winning index. This does not increase your odds of winning, you still have a 1/13,983,816 chance of winning the big prize in the next drawing with that combination.'.format(input_set,successful_outcomes,probabilityofwinning)\n",
    "    return txtoutput\n",
    "    if (successful_outcomes == 0): \n",
    "        txt = 'Your entry {} was not found in the winning index. However, your odds of winning still are 1/13,983,816.'\n",
    "        return txt\n",
    "            \n",
    "print(check_historical_occurence([3, 41, 11, 12, 43, 14],winning_numbers))\n",
    "print('------------------------------------------------------------------')\n",
    "print(check_historical_occurence([3, 9, 10, 43, 13, 20],winning_numbers))\n",
    "print('------------------------------------------------------------------')\n",
    "print(check_historical_occurence([3,10,10,10,10,10],winning_numbers))"
   ]
  },
  {
   "cell_type": "markdown",
   "metadata": {},
   "source": [
    "We wanted to showcase that even by historical bounds that the odds of winning the lottery are extremely slim. Say a user randomly happens to choose a correct value, we will want to quantifiably show to that user, that they are extremely lucky and that winning is unrealistic. "
   ]
  },
  {
   "cell_type": "markdown",
   "metadata": {},
   "source": [
    "## Part 4: Multi Ticket Probability Function"
   ]
  },
  {
   "cell_type": "markdown",
   "metadata": {},
   "source": [
    "Lottery addicts usually play more than one ticket on a single drawing, thinking that this might increase their chances of winning significantly. Our purpose is to help them better estimate their chances of winning. We're going to write a function that will allow the users to calculate the chances of winning for any number of different tickets."
   ]
  },
  {
   "cell_type": "code",
   "execution_count": 11,
   "metadata": {
    "collapsed": false
   },
   "outputs": [
    {
     "name": "stdout",
     "output_type": "stream",
     "text": [
      "{10000: 0.07151123842018516, 1: 7.151123842018516e-06, 100: 0.0007151123842018516, 1000000: 7.151123842018517, 6991908: 50.0, 10: 7.151123842018517e-05, 13983816: 100.0}\n",
      "----------\n",
      "Your chances of winning are 7.151123842% given you supplied 1,000,000 number of tickets.\n"
     ]
    }
   ],
   "source": [
    "def multi_ticket_probability(n_tickets):\n",
    "    total_n_possibleoutcome = combinations(49,6)\n",
    "    if type(n_tickets)==list:\n",
    "        prob_winning_dict = {}\n",
    "        for i in n_tickets:\n",
    "            succesful_outcomes = i\n",
    "            prob_winning_dict[i] = (succesful_outcomes/total_n_possibleoutcome)*100\n",
    "        return prob_winning_dict\n",
    "    if type(n_tickets)==int:\n",
    "        succesful_outcomes = n_tickets\n",
    "        prob_winning = succesful_outcomes/total_n_possibleoutcome*100\n",
    "        txt = 'Your chances of winning are {:,.9f}% given you supplied {:,d} number of tickets.'.format(prob_winning,n_tickets)\n",
    "        return txt\n",
    "        \n",
    "        \n",
    "print(multi_ticket_probability([1, 10, 100, 10000, 1000000, 6991908, 13983816]))\n",
    "print('----------')\n",
    "print(multi_ticket_probability(1000000))"
   ]
  },
  {
   "cell_type": "markdown",
   "metadata": {},
   "source": [
    "Because many lottery addicts will choose to buy multiple tickets to increase their odds of winning, even though wining is still unlikely, here we wanted to create a fcuntion that also showcases to users their odds of winning by the number of tickets they purchase. \n",
    "\n",
    "The function intakes two types; list or integer, for different use cases. Say a person wanted to input a random array of various numbers of tickets, the function can handle that as a list versus running it over and over each individual time for one integer, which the function also takes."
   ]
  },
  {
   "cell_type": "markdown",
   "metadata": {},
   "source": [
    "## Part 5: Winning Combinations Function"
   ]
  },
  {
   "cell_type": "markdown",
   "metadata": {},
   "source": [
    "We're going to write one more function to allow the users to calculate probabilities for two, three, four, or five winning numbers.\n",
    "\n",
    "For extra context, in most 6/49 lotteries there are smaller prizes if a player's ticket match two, three, four, or five of the six numbers drawn. As a consequence, the users might be interested in knowing the probability of having two, three, four, or five winning numbers."
   ]
  },
  {
   "cell_type": "code",
   "execution_count": 54,
   "metadata": {
    "collapsed": false
   },
   "outputs": [],
   "source": [
    "def probability_less_6(n_winning_numbers):\n",
    "    \n",
    "    n_combinations_ticket = combinations(6, n_winning_numbers)\n",
    "    n_combinations_remaining = combinations(43, 6 - n_winning_numbers)\n",
    "    successful_outcomes = n_combinations_ticket * n_combinations_remaining\n",
    "    \n",
    "    n_combinations_total = combinations(49, 6)    \n",
    "    probability = successful_outcomes / n_combinations_total\n",
    "    \n",
    "    probability_percentage = probability * 100    \n",
    "    combinations_simplified = round(n_combinations_total/successful_outcomes)    \n",
    "    print('''Your chances of having {} winning numbers with this ticket are {:.6f}%.\n",
    "In other words, you have a 1 in {:,} chances to win.'''.format(n_winning_numbers, probability_percentage,\n",
    "                                                               int(combinations_simplified)))"
   ]
  },
  {
   "cell_type": "code",
   "execution_count": 55,
   "metadata": {
    "collapsed": false
   },
   "outputs": [
    {
     "name": "stdout",
     "output_type": "stream",
     "text": [
      "Your chances of having 2 winning numbers with this ticket are 13.237803%.\n",
      "In other words, you have a 1 in 8 chances to win.\n",
      "--------------------------\n",
      "Your chances of having 3 winning numbers with this ticket are 1.765040%.\n",
      "In other words, you have a 1 in 57 chances to win.\n",
      "--------------------------\n",
      "Your chances of having 4 winning numbers with this ticket are 0.096862%.\n",
      "In other words, you have a 1 in 1,032 chances to win.\n",
      "--------------------------\n",
      "Your chances of having 5 winning numbers with this ticket are 0.001845%.\n",
      "In other words, you have a 1 in 54,201 chances to win.\n",
      "--------------------------\n"
     ]
    }
   ],
   "source": [
    "for test_input in [2, 3, 4, 5]:\n",
    "    probability_less_6(test_input)\n",
    "    print('--------------------------') # output delimiter"
   ]
  }
 ],
 "metadata": {
  "kernelspec": {
   "display_name": "Python 3",
   "language": "python",
   "name": "python3"
  },
  "language_info": {
   "codemirror_mode": {
    "name": "ipython",
    "version": 3
   },
   "file_extension": ".py",
   "mimetype": "text/x-python",
   "name": "python",
   "nbconvert_exporter": "python",
   "pygments_lexer": "ipython3",
   "version": "3.4.3"
  }
 },
 "nbformat": 4,
 "nbformat_minor": 2
}
